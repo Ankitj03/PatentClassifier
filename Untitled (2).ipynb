{
 "cells": [
  {
   "cell_type": "code",
   "execution_count": 1,
   "metadata": {},
   "outputs": [
    {
     "name": "stderr",
     "output_type": "stream",
     "text": [
      "[nltk_data] Downloading package stopwords to /Users/ankit/nltk_data...\n",
      "[nltk_data]   Package stopwords is already up-to-date!\n",
      "[nltk_data] Downloading package wordnet to /Users/ankit/nltk_data...\n",
      "[nltk_data]   Package wordnet is already up-to-date!\n"
     ]
    }
   ],
   "source": [
    "import json \n",
    "import pandas as pd \n",
    "from pandas.io.json import json_normalize\n",
    "import nltk\n",
    "nltk.download('stopwords')\n",
    "nltk.download('wordnet')\n",
    "import datetime\n",
    "from sklearn.feature_extraction.text import TfidfVectorizer\n",
    "from sklearn.feature_extraction.text import CountVectorizer\n",
    "from sklearn.neighbors import KNeighborsClassifier\n",
    "from nltk.corpus import stopwords\n",
    "from nltk.stem.wordnet import WordNetLemmatizer\n",
    "import string\n",
    "import re\n",
    "import numpy as np\n",
    "from collections import Counter\n",
    "from sklearn.model_selection import train_test_split "
   ]
  },
  {
   "cell_type": "code",
   "execution_count": 2,
   "metadata": {},
   "outputs": [],
   "source": [
    "df=pd.read_json('Downloads/uspto.json',lines=True)"
   ]
  },
  {
   "cell_type": "code",
   "execution_count": 3,
   "metadata": {},
   "outputs": [],
   "source": [
    "objectdata=df.object.dropna().apply(pd.Series)"
   ]
  },
  {
   "cell_type": "markdown",
   "metadata": {},
   "source": [
    "## Labelling the data as per their status"
   ]
  },
  {
   "cell_type": "code",
   "execution_count": 4,
   "metadata": {},
   "outputs": [],
   "source": [
    "status=objectdata.status.unique()"
   ]
  },
  {
   "cell_type": "code",
   "execution_count": 5,
   "metadata": {},
   "outputs": [
    {
     "data": {
      "text/plain": [
       "array(['Publications -- Issue Fee Payment Verified',\n",
       "       'Non Final Action Mailed', 'Awaiting TC Resp., Issue Fee Not Paid',\n",
       "       'Final Rejection Mailed',\n",
       "       'Docketed New Case - Ready for Examination', 'Patented Case',\n",
       "       'Sent to Classification contractor',\n",
       "       'Abandoned  --  Failure to Respond to an Office Action',\n",
       "       'Advisory Action Mailed',\n",
       "       \"Examiner's Answer to Appeal Brief Mailed\",\n",
       "       'Response to Non-Final Office Action Entered and Forwarded to Examiner',\n",
       "       'Patent Expired Due to NonPayment of Maintenance Fees Under 37 CFR 1.362',\n",
       "       'Appeal Brief (or Supplemental Brief) Entered and Forwarded to Examiner',\n",
       "       'Application Dispatched from Preexam, Not Yet Docketed',\n",
       "       'RO PROCESSING COMPLETED-PLACED IN STORAGE',\n",
       "       'PCT - International Search Report Mailed to IB',\n",
       "       'Provisional Application Expired',\n",
       "       'Application Undergoing Preexam Processing',\n",
       "       'Expressly Abandoned  --  During Examination'], dtype=object)"
      ]
     },
     "execution_count": 5,
     "metadata": {},
     "output_type": "execute_result"
    }
   ],
   "source": [
    "status"
   ]
  },
  {
   "cell_type": "code",
   "execution_count": 6,
   "metadata": {},
   "outputs": [
    {
     "data": {
      "text/plain": [
       "['Patented Case']"
      ]
     },
     "execution_count": 6,
     "metadata": {},
     "output_type": "execute_result"
    }
   ],
   "source": [
    "approved=[status[5]]\n",
    "approved"
   ]
  },
  {
   "cell_type": "code",
   "execution_count": 7,
   "metadata": {},
   "outputs": [
    {
     "data": {
      "text/plain": [
       "['Publications -- Issue Fee Payment Verified',\n",
       " 'Awaiting TC Resp., Issue Fee Not Paid',\n",
       " 'Non Final Action Mailed',\n",
       " 'Final Rejection Mailed',\n",
       " 'Abandoned  --  Failure to Respond to an Office Action',\n",
       " 'Advisory Action Mailed',\n",
       " 'Response to Non-Final Office Action Entered and Forwarded to Examiner',\n",
       " 'Patent Expired Due to NonPayment of Maintenance Fees Under 37 CFR 1.362',\n",
       " 'Provisional Application Expired',\n",
       " 'Expressly Abandoned  --  During Examination',\n",
       " 'Docketed New Case - Ready for Examination',\n",
       " 'Sent to Classification contractor',\n",
       " \"Examiner's Answer to Appeal Brief Mailed\",\n",
       " 'Appeal Brief (or Supplemental Brief) Entered and Forwarded to Examiner',\n",
       " 'Application Dispatched from Preexam, Not Yet Docketed',\n",
       " 'RO PROCESSING COMPLETED-PLACED IN STORAGE',\n",
       " 'PCT - International Search Report Mailed to IB',\n",
       " 'Application Undergoing Preexam Processing']"
      ]
     },
     "execution_count": 7,
     "metadata": {},
     "output_type": "execute_result"
    }
   ],
   "source": [
    "disapproval=[status[0],status[2],status[1],status[3],status[7],status[8],status[10],status[11],status[16],status[18],status[4],status[6],status[9],status[12],status[13],status[14],status[15],status[17]]\n",
    "disapproval"
   ]
  },
  {
   "cell_type": "code",
   "execution_count": 8,
   "metadata": {},
   "outputs": [],
   "source": [
    "objectdata['result']=[None for i in range(len(objectdata['status']))]"
   ]
  },
  {
   "cell_type": "code",
   "execution_count": 9,
   "metadata": {},
   "outputs": [],
   "source": [
    "for i in range(len(objectdata['status'])):\n",
    "    if objectdata['status'][i] in approved:\n",
    "        objectdata['result'][i]=0\n",
    "    elif objectdata['status'][i] in disapproval:\n",
    "        objectdata['result'][i]=1"
   ]
  },
  {
   "cell_type": "markdown",
   "metadata": {},
   "source": [
    "## Data Cleaning"
   ]
  },
  {
   "cell_type": "code",
   "execution_count": 10,
   "metadata": {},
   "outputs": [],
   "source": [
    "stop = set(stopwords.words('english'))\n",
    "exclude = set(string.punctuation)\n",
    "lemma = WordNetLemmatizer()"
   ]
  },
  {
   "cell_type": "code",
   "execution_count": 11,
   "metadata": {},
   "outputs": [],
   "source": [
    "def get_top_n_words(corpus, n=None,reverse=True):\n",
    "    vec = CountVectorizer().fit(corpus)\n",
    "    bag_of_words = vec.transform(corpus)\n",
    "    sum_words = bag_of_words.sum(axis=0)\n",
    "    words_freq = [(word, sum_words[0, idx]) for word, idx in     vec.vocabulary_.items()]\n",
    "    words_freq =sorted(words_freq, key = lambda x: x[1], reverse=reverse)\n",
    "    remwords= words_freq[:n]\n",
    "    return [i[0] for i in remwords]"
   ]
  },
  {
   "cell_type": "code",
   "execution_count": 12,
   "metadata": {},
   "outputs": [],
   "source": [
    "def clean(doc):\n",
    "    stop_free = \" \".join([i for i in doc.lower().split() if i not in stop])\n",
    "    punc_free = ''.join(ch for ch in stop_free if ch not in exclude)\n",
    "    normalized = \" \".join(lemma.lemmatize(word) for word in punc_free.split())\n",
    "    #word_free = \" \".join([i for i in normalized.split() if i not in common_words])\n",
    "    #word_freehigh = \" \".join([i for i in word_free.split() if i not in removewords])\n",
    "    nonnumeric = re.sub(r\"\\d+\",\"\",normalized)\n",
    "    processed = re.sub(r'\\W*\\b\\w{1,4}\\b',\"\",nonnumeric)\n",
    "    #y = processed.split()\n",
    "    return processed"
   ]
  },
  {
   "cell_type": "code",
   "execution_count": 14,
   "metadata": {},
   "outputs": [],
   "source": [
    "objectdata['summary']=objectdata['summary'].apply(clean)"
   ]
  },
  {
   "cell_type": "code",
   "execution_count": 15,
   "metadata": {},
   "outputs": [],
   "source": [
    "objectdata['title']=objectdata['title'].apply(clean)"
   ]
  },
  {
   "cell_type": "code",
   "execution_count": 16,
   "metadata": {},
   "outputs": [],
   "source": [
    "common_words = get_top_n_words(objectdata['summary']+objectdata['title'],30)"
   ]
  },
  {
   "cell_type": "code",
   "execution_count": 17,
   "metadata": {},
   "outputs": [
    {
     "data": {
      "text/plain": [
       "['lidar',\n",
       " 'system',\n",
       " 'laser',\n",
       " 'signal',\n",
       " 'light',\n",
       " 'method',\n",
       " 'point',\n",
       " 'target',\n",
       " 'optical',\n",
       " 'object',\n",
       " 'source',\n",
       " 'pulse',\n",
       " 'image',\n",
       " 'sensor',\n",
       " 'using',\n",
       " 'includes',\n",
       " 'measurement',\n",
       " 'first',\n",
       " 'second',\n",
       " 'detection',\n",
       " 'device',\n",
       " 'surface',\n",
       " 'système',\n",
       " 'position',\n",
       " 'detector',\n",
       " 'invention',\n",
       " 'array',\n",
       " 'information',\n",
       " 'configured',\n",
       " 'reflected']"
      ]
     },
     "execution_count": 17,
     "metadata": {},
     "output_type": "execute_result"
    }
   ],
   "source": [
    "common_words"
   ]
  },
  {
   "cell_type": "code",
   "execution_count": 18,
   "metadata": {},
   "outputs": [],
   "source": [
    "def removewords(doc):\n",
    "    word_free = \" \".join([i for i in doc.split() if i not in common_words])\n",
    "    return word_free"
   ]
  },
  {
   "cell_type": "code",
   "execution_count": 19,
   "metadata": {},
   "outputs": [],
   "source": [
    "objectdata['summary']=objectdata['summary'].apply(removewords)\n",
    "objectdata['title']=objectdata['title'].apply(removewords)"
   ]
  },
  {
   "cell_type": "markdown",
   "metadata": {},
   "source": [
    "## Sorting by Date & Time"
   ]
  },
  {
   "cell_type": "code",
   "execution_count": 20,
   "metadata": {},
   "outputs": [],
   "source": [
    "objectdata['filingDate']=objectdata['filingDate'].apply(lambda x: np.NaN if (len(x)<1) else x)"
   ]
  },
  {
   "cell_type": "code",
   "execution_count": 21,
   "metadata": {},
   "outputs": [],
   "source": [
    "objectdata['filingDate']=objectdata['filingDate'].apply(lambda x: datetime.datetime.strptime(x, \"%a %b %d %H:%M:%S %z %Y\") if isinstance(x,str) else x) "
   ]
  },
  {
   "cell_type": "code",
   "execution_count": 22,
   "metadata": {},
   "outputs": [],
   "source": [
    "objectdata=objectdata.sort_values(by='filingDate')"
   ]
  },
  {
   "cell_type": "code",
   "execution_count": 23,
   "metadata": {},
   "outputs": [],
   "source": [
    "objectdata=objectdata.reset_index(drop=True)"
   ]
  },
  {
   "cell_type": "code",
   "execution_count": 24,
   "metadata": {},
   "outputs": [
    {
     "data": {
      "text/html": [
       "<div>\n",
       "<style scoped>\n",
       "    .dataframe tbody tr th:only-of-type {\n",
       "        vertical-align: middle;\n",
       "    }\n",
       "\n",
       "    .dataframe tbody tr th {\n",
       "        vertical-align: top;\n",
       "    }\n",
       "\n",
       "    .dataframe thead th {\n",
       "        text-align: right;\n",
       "    }\n",
       "</style>\n",
       "<table border=\"1\" class=\"dataframe\">\n",
       "  <thead>\n",
       "    <tr style=\"text-align: right;\">\n",
       "      <th></th>\n",
       "      <th>id</th>\n",
       "      <th>title</th>\n",
       "      <th>summary</th>\n",
       "      <th>status</th>\n",
       "      <th>filingDate</th>\n",
       "      <th>publicationNumber</th>\n",
       "      <th>publicationDate</th>\n",
       "      <th>objectType</th>\n",
       "      <th>result</th>\n",
       "    </tr>\n",
       "  </thead>\n",
       "  <tbody>\n",
       "    <tr>\n",
       "      <th>0</th>\n",
       "      <td>06248629</td>\n",
       "      <td>removal background backscattering subtraction ...</td>\n",
       "      <td></td>\n",
       "      <td>Patent Expired Due to NonPayment of Maintenanc...</td>\n",
       "      <td>1981-03-27 13:00:00+00:00</td>\n",
       "      <td>NaN</td>\n",
       "      <td></td>\n",
       "      <td>patent</td>\n",
       "      <td>1</td>\n",
       "    </tr>\n",
       "    <tr>\n",
       "      <th>1</th>\n",
       "      <td>07146093</td>\n",
       "      <td>control photomultiplier detecting differential...</td>\n",
       "      <td></td>\n",
       "      <td>Patented Case</td>\n",
       "      <td>1988-01-20 13:00:00+00:00</td>\n",
       "      <td>NaN</td>\n",
       "      <td></td>\n",
       "      <td>patent</td>\n",
       "      <td>0</td>\n",
       "    </tr>\n",
       "    <tr>\n",
       "      <th>2</th>\n",
       "      <td>07216341</td>\n",
       "      <td>imaging</td>\n",
       "      <td></td>\n",
       "      <td>Patented Case</td>\n",
       "      <td>1988-07-07 11:00:00+00:00</td>\n",
       "      <td>NaN</td>\n",
       "      <td></td>\n",
       "      <td>patent</td>\n",
       "      <td>0</td>\n",
       "    </tr>\n",
       "    <tr>\n",
       "      <th>3</th>\n",
       "      <td>07256778</td>\n",
       "      <td>imaging nonvisible</td>\n",
       "      <td></td>\n",
       "      <td>Patent Expired Due to NonPayment of Maintenanc...</td>\n",
       "      <td>1988-10-12 11:00:00+00:00</td>\n",
       "      <td>NaN</td>\n",
       "      <td></td>\n",
       "      <td>patent</td>\n",
       "      <td>1</td>\n",
       "    </tr>\n",
       "    <tr>\n",
       "      <th>4</th>\n",
       "      <td>07348746</td>\n",
       "      <td></td>\n",
       "      <td></td>\n",
       "      <td>Expressly Abandoned  --  During Examination</td>\n",
       "      <td>1989-05-08 11:00:00+00:00</td>\n",
       "      <td>NaN</td>\n",
       "      <td></td>\n",
       "      <td>patent</td>\n",
       "      <td>1</td>\n",
       "    </tr>\n",
       "    <tr>\n",
       "      <th>5</th>\n",
       "      <td>07364860</td>\n",
       "      <td>incorporating multiple camera obtaining plural...</td>\n",
       "      <td></td>\n",
       "      <td>Patent Expired Due to NonPayment of Maintenanc...</td>\n",
       "      <td>1989-06-12 11:00:00+00:00</td>\n",
       "      <td>NaN</td>\n",
       "      <td></td>\n",
       "      <td>patent</td>\n",
       "      <td>1</td>\n",
       "    </tr>\n",
       "    <tr>\n",
       "      <th>6</th>\n",
       "      <td>07416652</td>\n",
       "      <td>arrangement measuring atmospheric turbidity</td>\n",
       "      <td></td>\n",
       "      <td>Patented Case</td>\n",
       "      <td>1989-10-03 11:00:00+00:00</td>\n",
       "      <td>NaN</td>\n",
       "      <td></td>\n",
       "      <td>patent</td>\n",
       "      <td>0</td>\n",
       "    </tr>\n",
       "    <tr>\n",
       "      <th>7</th>\n",
       "      <td>07420247</td>\n",
       "      <td>imaging</td>\n",
       "      <td></td>\n",
       "      <td>Patented Case</td>\n",
       "      <td>1989-10-12 11:00:00+00:00</td>\n",
       "      <td>NaN</td>\n",
       "      <td></td>\n",
       "      <td>patent</td>\n",
       "      <td>0</td>\n",
       "    </tr>\n",
       "    <tr>\n",
       "      <th>8</th>\n",
       "      <td>07499068</td>\n",
       "      <td>scanning</td>\n",
       "      <td></td>\n",
       "      <td>Patented Case</td>\n",
       "      <td>1990-03-23 13:00:00+00:00</td>\n",
       "      <td>NaN</td>\n",
       "      <td></td>\n",
       "      <td>patent</td>\n",
       "      <td>0</td>\n",
       "    </tr>\n",
       "    <tr>\n",
       "      <th>9</th>\n",
       "      <td>07539230</td>\n",
       "      <td>midinfrared hydrocarbon</td>\n",
       "      <td></td>\n",
       "      <td>Patented Case</td>\n",
       "      <td>1990-06-18 11:00:00+00:00</td>\n",
       "      <td>NaN</td>\n",
       "      <td></td>\n",
       "      <td>patent</td>\n",
       "      <td>0</td>\n",
       "    </tr>\n",
       "  </tbody>\n",
       "</table>\n",
       "</div>"
      ],
      "text/plain": [
       "         id                                              title summary  \\\n",
       "0  06248629  removal background backscattering subtraction ...           \n",
       "1  07146093  control photomultiplier detecting differential...           \n",
       "2  07216341                                            imaging           \n",
       "3  07256778                                 imaging nonvisible           \n",
       "4  07348746                                                              \n",
       "5  07364860  incorporating multiple camera obtaining plural...           \n",
       "6  07416652        arrangement measuring atmospheric turbidity           \n",
       "7  07420247                                            imaging           \n",
       "8  07499068                                           scanning           \n",
       "9  07539230                            midinfrared hydrocarbon           \n",
       "\n",
       "                                              status  \\\n",
       "0  Patent Expired Due to NonPayment of Maintenanc...   \n",
       "1                                      Patented Case   \n",
       "2                                      Patented Case   \n",
       "3  Patent Expired Due to NonPayment of Maintenanc...   \n",
       "4        Expressly Abandoned  --  During Examination   \n",
       "5  Patent Expired Due to NonPayment of Maintenanc...   \n",
       "6                                      Patented Case   \n",
       "7                                      Patented Case   \n",
       "8                                      Patented Case   \n",
       "9                                      Patented Case   \n",
       "\n",
       "                 filingDate publicationNumber publicationDate objectType  \\\n",
       "0 1981-03-27 13:00:00+00:00               NaN                     patent   \n",
       "1 1988-01-20 13:00:00+00:00               NaN                     patent   \n",
       "2 1988-07-07 11:00:00+00:00               NaN                     patent   \n",
       "3 1988-10-12 11:00:00+00:00               NaN                     patent   \n",
       "4 1989-05-08 11:00:00+00:00               NaN                     patent   \n",
       "5 1989-06-12 11:00:00+00:00               NaN                     patent   \n",
       "6 1989-10-03 11:00:00+00:00               NaN                     patent   \n",
       "7 1989-10-12 11:00:00+00:00               NaN                     patent   \n",
       "8 1990-03-23 13:00:00+00:00               NaN                     patent   \n",
       "9 1990-06-18 11:00:00+00:00               NaN                     patent   \n",
       "\n",
       "  result  \n",
       "0      1  \n",
       "1      0  \n",
       "2      0  \n",
       "3      1  \n",
       "4      1  \n",
       "5      1  \n",
       "6      0  \n",
       "7      0  \n",
       "8      0  \n",
       "9      0  "
      ]
     },
     "execution_count": 24,
     "metadata": {},
     "output_type": "execute_result"
    }
   ],
   "source": [
    "objectdata.head(10)"
   ]
  },
  {
   "cell_type": "markdown",
   "metadata": {},
   "source": [
    "## Creating TfIdf Sparse Matrices"
   ]
  },
  {
   "cell_type": "code",
   "execution_count": 25,
   "metadata": {},
   "outputs": [],
   "source": [
    "vectorizer = TfidfVectorizer(sublinear_tf=True, norm='l2', encoding='latin-1', ngram_range=(1, 2), stop_words='english')\n",
    "vectorizer2 = TfidfVectorizer(sublinear_tf=True, norm='l2', encoding='latin-1', ngram_range=(1, 2), stop_words='english')\n",
    "summary = vectorizer.fit_transform(objectdata['summary'])\n",
    "title=vectorizer2.fit_transform(objectdata['title'])"
   ]
  },
  {
   "cell_type": "code",
   "execution_count": 26,
   "metadata": {},
   "outputs": [
    {
     "data": {
      "text/plain": [
       "(358, 11091)"
      ]
     },
     "execution_count": 26,
     "metadata": {},
     "output_type": "execute_result"
    }
   ],
   "source": [
    "summary.shape"
   ]
  },
  {
   "cell_type": "code",
   "execution_count": 27,
   "metadata": {},
   "outputs": [
    {
     "data": {
      "text/plain": [
       "(358, 1156)"
      ]
     },
     "execution_count": 27,
     "metadata": {},
     "output_type": "execute_result"
    }
   ],
   "source": [
    "title.shape"
   ]
  },
  {
   "cell_type": "markdown",
   "metadata": {},
   "source": [
    "## Cosine Similarity of a document with all other documents"
   ]
  },
  {
   "cell_type": "code",
   "execution_count": 28,
   "metadata": {},
   "outputs": [],
   "source": [
    "def cosine_similarity(x,y):\n",
    "    return y.dot(x.T)"
   ]
  },
  {
   "cell_type": "markdown",
   "metadata": {},
   "source": [
    "## Predicting status based on Similarity with historical data of Patents"
   ]
  },
  {
   "cell_type": "code",
   "execution_count": 29,
   "metadata": {},
   "outputs": [],
   "source": [
    "def predict(doc):\n",
    "    doc['title']=doc['title'].apply(clean)\n",
    "    doc['summary']=doc['summary'].apply(clean)\n",
    "    doc['title']=doc['title'].apply(removewords)\n",
    "    doc['summary']=doc['summary'].apply(removewords)\n",
    "    docsum=vectorizer.transform(doc['summary'])\n",
    "    doctitle=vectorizer2.transform(doc['title'])\n",
    "    similar_titles=cosine_similarity(title,doctitle[0]).toarray()\n",
    "    similar_summary=cosine_similarity(summary,docsum[0]).toarray()\n",
    "    simtitle={}\n",
    "    for x,i in np.ndenumerate(similar_titles):\n",
    "        if i>0.5:\n",
    "            simtitle[x[1]]=i\n",
    "    simsum={}\n",
    "    for x,i in np.ndenumerate(similar_summary):\n",
    "        if i>0.5:\n",
    "            simsum[x[1]]=i\n",
    "    if len(simtitle)>0:\n",
    "        for i in simtitle.keys():\n",
    "            if objectdata.loc[i,'result']==0:\n",
    "                return 1\n",
    "    if len(simsum)>0:\n",
    "        for i in simsum.keys():\n",
    "            if objectdata.loc[i,'result']==0:\n",
    "                return 1\n",
    "    return 0"
   ]
  },
  {
   "cell_type": "markdown",
   "metadata": {},
   "source": [
    "## Performance"
   ]
  },
  {
   "cell_type": "code",
   "execution_count": 30,
   "metadata": {},
   "outputs": [],
   "source": [
    "trainX, testX, trainy, testy = train_test_split(objectdata.iloc[:,:-1],objectdata['result'], test_size=0.3, random_state=2)"
   ]
  },
  {
   "cell_type": "code",
   "execution_count": 31,
   "metadata": {},
   "outputs": [],
   "source": [
    "trainX=trainX.reset_index(drop=True)\n",
    "trainy=trainy.reset_index(drop=True)\n",
    "testX=testX.reset_index(drop=True)\n",
    "testy=testy.reset_index(drop=True)"
   ]
  },
  {
   "cell_type": "code",
   "execution_count": 32,
   "metadata": {},
   "outputs": [],
   "source": [
    "summary = vectorizer.fit_transform(trainX['summary'])\n",
    "title=vectorizer2.fit_transform(trainX['title'])"
   ]
  },
  {
   "cell_type": "code",
   "execution_count": 33,
   "metadata": {},
   "outputs": [],
   "source": [
    "def predict(doc,i):\n",
    "    doc['title']=doc['title'].apply(clean)\n",
    "    doc['summary']=doc['summary'].apply(clean)\n",
    "    doc['title']=doc['title'].apply(removewords)\n",
    "    doc['summary']=doc['summary'].apply(removewords)\n",
    "    docsum=vectorizer.transform(doc['summary'])\n",
    "    doctitle=vectorizer2.transform(doc['title'])\n",
    "    similar_titles=cosine_similarity(title,doctitle[i]).toarray()\n",
    "    similar_summary=cosine_similarity(summary,docsum[i]).toarray()\n",
    "    simtitle={}\n",
    "    for x,i in np.ndenumerate(similar_titles):\n",
    "        if i>0.5:\n",
    "            simtitle[x[1]]=i\n",
    "    simsum={}\n",
    "    for x,i in np.ndenumerate(similar_summary):\n",
    "        if i>0.5:\n",
    "            simsum[x[1]]=i\n",
    "    if len(simtitle)>0:\n",
    "        for i in simtitle.keys():\n",
    "            if trainy[i]==0:\n",
    "                return 1\n",
    "    if len(simsum)>0:\n",
    "        for i in simsum.keys():\n",
    "            if trainy[i]==0:\n",
    "                return 1\n",
    "    return 0"
   ]
  },
  {
   "cell_type": "code",
   "execution_count": 34,
   "metadata": {},
   "outputs": [],
   "source": [
    "y_pred=[]\n",
    "for i in range(len(testX)):\n",
    "    y_pred.append(predict(testX,i))"
   ]
  },
  {
   "cell_type": "code",
   "execution_count": 35,
   "metadata": {},
   "outputs": [
    {
     "data": {
      "text/plain": [
       "108"
      ]
     },
     "execution_count": 35,
     "metadata": {},
     "output_type": "execute_result"
    }
   ],
   "source": [
    "len(testy)"
   ]
  },
  {
   "cell_type": "code",
   "execution_count": 36,
   "metadata": {},
   "outputs": [
    {
     "data": {
      "text/plain": [
       "108"
      ]
     },
     "execution_count": 36,
     "metadata": {},
     "output_type": "execute_result"
    }
   ],
   "source": [
    "len(y_pred)"
   ]
  },
  {
   "cell_type": "code",
   "execution_count": 37,
   "metadata": {},
   "outputs": [
    {
     "name": "stdout",
     "output_type": "stream",
     "text": [
      "[[33 12]\n",
      " [42 21]]\n",
      "              precision    recall  f1-score   support\n",
      "\n",
      "           0       0.44      0.73      0.55        45\n",
      "           1       0.64      0.33      0.44        63\n",
      "\n",
      "   micro avg       0.50      0.50      0.50       108\n",
      "   macro avg       0.54      0.53      0.49       108\n",
      "weighted avg       0.55      0.50      0.48       108\n",
      "\n"
     ]
    }
   ],
   "source": [
    "from sklearn.metrics import classification_report, confusion_matrix\n",
    "print(confusion_matrix(list(testy),y_pred))\n",
    "print(classification_report(list(testy),y_pred))"
   ]
  },
  {
   "cell_type": "code",
   "execution_count": 38,
   "metadata": {},
   "outputs": [],
   "source": [
    "from sklearn.metrics import r2_score,mean_squared_error,roc_curve,auc\n",
    "import matplotlib.pyplot as matplot_plt\n",
    "def get_roc (y_test,y_pred):\n",
    "  \n",
    "    #True Vs Predicted Value\n",
    "    print(\"RMSE\")\n",
    "    print(mean_squared_error(y_test,y_pred))\n",
    "    \n",
    "    print(\"\\n R(Square)\")\n",
    "    print(r2_score(y_test,y_pred))\n",
    "    \n",
    "    # Compute ROC curve and ROC area for each class\n",
    "    false_positive_ratio = dict()\n",
    "    true_positive_ratio = dict()\n",
    "    #Results Computed------\n",
    "    roc_auc = dict()\n",
    "    \n",
    "    #Results Computed------\n",
    "    for i in range(2):\n",
    "        false_positive_ratio[i], true_positive_ratio[i], _ = roc_curve(y_test, y_pred)\n",
    "        roc_auc[i] = auc(false_positive_ratio[i], true_positive_ratio[i])\n",
    "    \n",
    "    \n",
    "    \n",
    "    #Plot of a ROC curve\n",
    "    matplot_plt.figure()\n",
    "    lw = 2\n",
    "    matplot_plt.plot(false_positive_ratio[1], true_positive_ratio[1], color='darkorange',\n",
    "             label='ROC curve (area = %0.2f)' % roc_auc[1])\n",
    "    matplot_plt.plot([0, 1], [0, 1], color='navy', lw=lw, linestyle='--')\n",
    "    \n",
    "    \n",
    "    #Results Computed------\n",
    "    \n",
    "    matplot_plt.xlim([0.0, 1.0])\n",
    "    matplot_plt.ylim([0.0, 1.0])\n",
    "    \n",
    "    \n",
    "    matplot_plt.xlabel('False Positive Rate')\n",
    "    matplot_plt.ylabel('True Positive Rate')\n",
    "    matplot_plt.title('Receiver operating characteristic')\n",
    "    matplot_plt.legend(loc=\"lower right\")\n",
    "    matplot_plt.show()\n",
    "    return"
   ]
  },
  {
   "cell_type": "code",
   "execution_count": 39,
   "metadata": {},
   "outputs": [
    {
     "name": "stdout",
     "output_type": "stream",
     "text": [
      "RMSE\n",
      "0.5\n",
      "\n",
      " R(Square)\n",
      "-1.057142857142857\n"
     ]
    },
    {
     "data": {
      "image/png": "[encoded data removed]",
      "text/plain": [
       "<Figure size 432x288 with 1 Axes>"
      ]
     },
     "metadata": {
      "needs_background": "light"
     },
     "output_type": "display_data"
    }
   ],
   "source": [
    "get_roc(list(testy),y_pred)"
   ]
  },
  {
   "cell_type": "markdown",
   "metadata": {},
   "source": [
    "## API"
   ]
  },
  {
   "cell_type": "code",
   "execution_count": null,
   "metadata": {},
   "outputs": [
    {
     "name": "stdout",
     "output_type": "stream",
     "text": [
      " * Serving Flask app \"__main__\" (lazy loading)\n",
      " * Environment: production\n",
      "   WARNING: Do not use the development server in a production environment.\n",
      "   Use a production WSGI server instead.\n",
      " * Debug mode: off\n"
     ]
    },
    {
     "name": "stderr",
     "output_type": "stream",
     "text": [
      " * Running on http://127.0.0.1:5000/ (Press CTRL+C to quit)\n"
     ]
    }
   ],
   "source": [
    "from flask import Flask,request\n",
    "  \n",
    "app = Flask(__name__) \n",
    "  \n",
    "@app.route('/patentpredict', methods=[\"POST\"]) \n",
    "def predict_patent(): \n",
    "    req = request.get_json()\n",
    "    doc=pd.DataFrame(req['object'],index=[0])\n",
    "    res=predict(doc)\n",
    "    if res==0:\n",
    "        return \"Approved\"\n",
    "    elif res==1:\n",
    "        return \"Not approved\"\n",
    "\n",
    "@app.route('/patentrecord',methods=[\"POST\"])\n",
    "def record_patent():\n",
    "    req = request.get_json()\n",
    "    doc=pd.DataFrame(req['object'],index=[0])\n",
    "    if doc['status'] in approved:\n",
    "        doc['result']=[0]\n",
    "    elif doc['status'] in disapproval:\n",
    "        doc['result']=[1]\n",
    "    objectdata.append(doc)\n",
    "    return \"Submitted\"\n",
    "if __name__ == '__main__': \n",
    "    app.run()"
   ]
  },
  {
   "cell_type": "code",
   "execution_count": null,
   "metadata": {},
   "outputs": [],
   "source": []
  }
 ],
 "metadata": {
  "kernelspec": {
   "display_name": "Python 3",
   "language": "python",
   "name": "python3"
  },
  "language_info": {
   "codemirror_mode": {
    "name": "ipython",
    "version": 3
   },
   "file_extension": ".py",
   "mimetype": "text/x-python",
   "name": "python",
   "nbconvert_exporter": "python",
   "pygments_lexer": "ipython3",
   "version": "3.7.1"
  }
 },
 "nbformat": 4,
 "nbformat_minor": 2
}
