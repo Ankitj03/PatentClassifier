{
 "cells": [
  {
   "cell_type": "code",
   "execution_count": 1,
   "metadata": {},
   "outputs": [
    {
     "name": "stderr",
     "output_type": "stream",
     "text": [
      "[nltk_data] Downloading package stopwords to /Users/ankit/nltk_data...\n",
      "[nltk_data]   Package stopwords is already up-to-date!\n",
      "[nltk_data] Downloading package wordnet to /Users/ankit/nltk_data...\n",
      "[nltk_data]   Package wordnet is already up-to-date!\n"
     ]
    }
   ],
   "source": [
    "import json \n",
    "import pandas as pd\n",
    "import datetime\n",
    "from pandas.io.json import json_normalize\n",
    "import nltk\n",
    "nltk.download('stopwords')\n",
    "nltk.download('wordnet')\n",
    "from sklearn.feature_extraction.text import TfidfVectorizer\n",
    "from sklearn.feature_extraction.text import CountVectorizer\n",
    "from sklearn.neighbors import KNeighborsClassifier\n",
    "from nltk.corpus import stopwords\n",
    "from nltk.stem.wordnet import WordNetLemmatizer\n",
    "import string\n",
    "import re\n",
    "import numpy as np\n",
    "from collections import Counter\n",
    "from sklearn.model_selection import train_test_split "
   ]
  },
  {
   "cell_type": "code",
   "execution_count": 2,
   "metadata": {},
   "outputs": [],
   "source": [
    "df=pd.read_json('Downloads/uspto.json',lines=True)"
   ]
  },
  {
   "cell_type": "code",
   "execution_count": 3,
   "metadata": {},
   "outputs": [],
   "source": [
    "objectdata=df.object.dropna().apply(pd.Series)"
   ]
  },
  {
   "cell_type": "markdown",
   "metadata": {},
   "source": [
    "## Labelling the data as per their status"
   ]
  },
  {
   "cell_type": "code",
   "execution_count": 4,
   "metadata": {},
   "outputs": [],
   "source": [
    "status=objectdata.status.unique()"
   ]
  },
  {
   "cell_type": "code",
   "execution_count": 5,
   "metadata": {},
   "outputs": [
    {
     "data": {
      "text/plain": [
       "['Patented Case']"
      ]
     },
     "execution_count": 5,
     "metadata": {},
     "output_type": "execute_result"
    }
   ],
   "source": [
    "approved=[status[5]]\n",
    "approved"
   ]
  },
  {
   "cell_type": "code",
   "execution_count": 6,
   "metadata": {},
   "outputs": [
    {
     "data": {
      "text/plain": [
       "['Publications -- Issue Fee Payment Verified',\n",
       " 'Awaiting TC Resp., Issue Fee Not Paid',\n",
       " 'Non Final Action Mailed',\n",
       " 'Final Rejection Mailed',\n",
       " 'Abandoned  --  Failure to Respond to an Office Action',\n",
       " 'Advisory Action Mailed',\n",
       " 'Response to Non-Final Office Action Entered and Forwarded to Examiner',\n",
       " 'Patent Expired Due to NonPayment of Maintenance Fees Under 37 CFR 1.362',\n",
       " 'Provisional Application Expired',\n",
       " 'Expressly Abandoned  --  During Examination',\n",
       " 'Docketed New Case - Ready for Examination',\n",
       " 'Sent to Classification contractor',\n",
       " \"Examiner's Answer to Appeal Brief Mailed\",\n",
       " 'Appeal Brief (or Supplemental Brief) Entered and Forwarded to Examiner',\n",
       " 'Application Dispatched from Preexam, Not Yet Docketed',\n",
       " 'RO PROCESSING COMPLETED-PLACED IN STORAGE',\n",
       " 'PCT - International Search Report Mailed to IB',\n",
       " 'Application Undergoing Preexam Processing']"
      ]
     },
     "execution_count": 6,
     "metadata": {},
     "output_type": "execute_result"
    }
   ],
   "source": [
    "disapproval=[status[0],status[2],status[1],status[3],status[7],status[8],status[10],status[11],status[16],status[18],status[4],status[6],status[9],status[12],status[13],status[14],status[15],status[17]]\n",
    "disapproval"
   ]
  },
  {
   "cell_type": "code",
   "execution_count": 7,
   "metadata": {},
   "outputs": [],
   "source": [
    "objectdata['result']=[None for i in range(len(objectdata['status']))]"
   ]
  },
  {
   "cell_type": "code",
   "execution_count": 8,
   "metadata": {},
   "outputs": [],
   "source": [
    "for i in range(len(objectdata['status'])):\n",
    "    if objectdata['status'][i] in approved:\n",
    "        objectdata['result'][i]=0\n",
    "    elif objectdata['status'][i] in disapproval:\n",
    "        objectdata['result'][i]=1"
   ]
  },
  {
   "cell_type": "markdown",
   "metadata": {},
   "source": [
    "## Data Cleaning"
   ]
  },
  {
   "cell_type": "code",
   "execution_count": 9,
   "metadata": {},
   "outputs": [],
   "source": [
    "stop = set(stopwords.words('english'))\n",
    "exclude = set(string.punctuation)\n",
    "lemma = WordNetLemmatizer()"
   ]
  },
  {
   "cell_type": "code",
   "execution_count": 10,
   "metadata": {},
   "outputs": [],
   "source": [
    "def get_top_n_words(corpus, n=None,reverse=True):\n",
    "    vec = CountVectorizer().fit(corpus)\n",
    "    bag_of_words = vec.transform(corpus)\n",
    "    sum_words = bag_of_words.sum(axis=0)\n",
    "    words_freq = [(word, sum_words[0, idx]) for word, idx in     vec.vocabulary_.items()]\n",
    "    words_freq =sorted(words_freq, key = lambda x: x[1], reverse=reverse)\n",
    "    remwords= words_freq[:n]\n",
    "    return [i[0] for i in remwords]"
   ]
  },
  {
   "cell_type": "code",
   "execution_count": 11,
   "metadata": {},
   "outputs": [],
   "source": [
    "def clean(doc):\n",
    "    stop_free = \" \".join([i for i in doc.lower().split() if i not in stop])\n",
    "    punc_free = ''.join(ch for ch in stop_free if ch not in exclude)\n",
    "    normalized = \" \".join(lemma.lemmatize(word) for word in punc_free.split())\n",
    "    nonnumeric = re.sub(r\"\\d+\",\"\",normalized)\n",
    "    processed = re.sub(r'\\W*\\b\\w{1,4}\\b',\"\",nonnumeric)\n",
    "    #y = processed.split()\n",
    "    return processed"
   ]
  },
  {
   "cell_type": "code",
   "execution_count": 12,
   "metadata": {},
   "outputs": [],
   "source": [
    "objectdata['summary']=objectdata['summary'].apply(clean)\n",
    "objectdata['title']=objectdata['title'].apply(clean)"
   ]
  },
  {
   "cell_type": "code",
   "execution_count": 13,
   "metadata": {},
   "outputs": [],
   "source": [
    "common_words = get_top_n_words(objectdata['summary']+objectdata['title'],30)"
   ]
  },
  {
   "cell_type": "code",
   "execution_count": 14,
   "metadata": {},
   "outputs": [
    {
     "data": {
      "text/plain": [
       "['lidar',\n",
       " 'system',\n",
       " 'laser',\n",
       " 'signal',\n",
       " 'light',\n",
       " 'method',\n",
       " 'point',\n",
       " 'target',\n",
       " 'optical',\n",
       " 'object',\n",
       " 'source',\n",
       " 'pulse',\n",
       " 'image',\n",
       " 'sensor',\n",
       " 'using',\n",
       " 'includes',\n",
       " 'measurement',\n",
       " 'first',\n",
       " 'second',\n",
       " 'detection',\n",
       " 'device',\n",
       " 'surface',\n",
       " 'système',\n",
       " 'position',\n",
       " 'detector',\n",
       " 'invention',\n",
       " 'array',\n",
       " 'information',\n",
       " 'configured',\n",
       " 'reflected']"
      ]
     },
     "execution_count": 14,
     "metadata": {},
     "output_type": "execute_result"
    }
   ],
   "source": [
    "common_words"
   ]
  },
  {
   "cell_type": "code",
   "execution_count": 15,
   "metadata": {},
   "outputs": [],
   "source": [
    "def removewords(doc):\n",
    "    word_free = \" \".join([i for i in doc.split() if i not in common_words])\n",
    "    return word_free"
   ]
  },
  {
   "cell_type": "code",
   "execution_count": 16,
   "metadata": {},
   "outputs": [],
   "source": [
    "objectdata['summary']=objectdata['summary'].apply(removewords)\n",
    "objectdata['title']=objectdata['title'].apply(removewords)"
   ]
  },
  {
   "cell_type": "code",
   "execution_count": 17,
   "metadata": {},
   "outputs": [],
   "source": [
    "objectdata['filingDate']=objectdata['filingDate'].apply(lambda x: np.NaN if (len(x)<1) else x)\n",
    "objectdata['filingDate']=objectdata['filingDate'].apply(lambda x: datetime.datetime.strptime(x, \"%a %b %d %H:%M:%S %z %Y\") if isinstance(x,str) else x) \n",
    "objectdata=objectdata.sort_values(by='filingDate')\n",
    "objectdata=objectdata.reset_index(drop=True)"
   ]
  },
  {
   "cell_type": "code",
   "execution_count": 18,
   "metadata": {},
   "outputs": [
    {
     "data": {
      "text/plain": [
       "2"
      ]
     },
     "execution_count": 18,
     "metadata": {},
     "output_type": "execute_result"
    }
   ],
   "source": [
    "objectdata.result.nunique()"
   ]
  },
  {
   "cell_type": "code",
   "execution_count": 19,
   "metadata": {},
   "outputs": [],
   "source": [
    "objectdata['title_sum'] = objectdata.title + objectdata.summary\n",
    "objectdata.drop(['id','title','summary','status','filingDate','publicationNumber','publicationDate','objectType'],axis=1, inplace=True)"
   ]
  },
  {
   "cell_type": "code",
   "execution_count": 20,
   "metadata": {},
   "outputs": [
    {
     "data": {
      "text/plain": [
       "(358, 12062)"
      ]
     },
     "execution_count": 20,
     "metadata": {},
     "output_type": "execute_result"
    }
   ],
   "source": [
    "vectorizer = TfidfVectorizer(sublinear_tf=True, norm='l2', encoding='latin-1', ngram_range=(1, 2), stop_words='english')\n",
    "features = vectorizer.fit_transform(objectdata['title_sum'])\n",
    "labels = objectdata['result']\n",
    "features.shape"
   ]
  },
  {
   "cell_type": "code",
   "execution_count": 21,
   "metadata": {},
   "outputs": [
    {
     "data": {
      "text/html": [
       "<div>\n",
       "<style scoped>\n",
       "    .dataframe tbody tr th:only-of-type {\n",
       "        vertical-align: middle;\n",
       "    }\n",
       "\n",
       "    .dataframe tbody tr th {\n",
       "        vertical-align: top;\n",
       "    }\n",
       "\n",
       "    .dataframe thead th {\n",
       "        text-align: right;\n",
       "    }\n",
       "</style>\n",
       "<table border=\"1\" class=\"dataframe\">\n",
       "  <thead>\n",
       "    <tr style=\"text-align: right;\">\n",
       "      <th></th>\n",
       "      <th>result</th>\n",
       "      <th>title_sum</th>\n",
       "    </tr>\n",
       "  </thead>\n",
       "  <tbody>\n",
       "    <tr>\n",
       "      <th>0</th>\n",
       "      <td>1</td>\n",
       "      <td>removal background backscattering subtraction ...</td>\n",
       "    </tr>\n",
       "    <tr>\n",
       "      <th>1</th>\n",
       "      <td>0</td>\n",
       "      <td>control photomultiplier detecting differential...</td>\n",
       "    </tr>\n",
       "    <tr>\n",
       "      <th>2</th>\n",
       "      <td>0</td>\n",
       "      <td>imaging</td>\n",
       "    </tr>\n",
       "    <tr>\n",
       "      <th>3</th>\n",
       "      <td>1</td>\n",
       "      <td>imaging nonvisible</td>\n",
       "    </tr>\n",
       "    <tr>\n",
       "      <th>4</th>\n",
       "      <td>1</td>\n",
       "      <td></td>\n",
       "    </tr>\n",
       "  </tbody>\n",
       "</table>\n",
       "</div>"
      ],
      "text/plain": [
       "  result                                          title_sum\n",
       "0      1  removal background backscattering subtraction ...\n",
       "1      0  control photomultiplier detecting differential...\n",
       "2      0                                            imaging\n",
       "3      1                                 imaging nonvisible\n",
       "4      1                                                   "
      ]
     },
     "execution_count": 21,
     "metadata": {},
     "output_type": "execute_result"
    }
   ],
   "source": [
    "objectdata.head()"
   ]
  },
  {
   "cell_type": "markdown",
   "metadata": {},
   "source": [
    "## Choosing a Classifier"
   ]
  },
  {
   "cell_type": "code",
   "execution_count": 22,
   "metadata": {},
   "outputs": [],
   "source": [
    "from sklearn.linear_model import LogisticRegression\n",
    "from sklearn.ensemble import RandomForestClassifier\n",
    "from xgboost import XGBClassifier\n",
    "from sklearn.naive_bayes import MultinomialNB\n",
    "from sklearn import svm\n",
    "from sklearn.model_selection import cross_val_score"
   ]
  },
  {
   "cell_type": "code",
   "execution_count": 23,
   "metadata": {},
   "outputs": [],
   "source": [
    "models = [\n",
    "    LogisticRegression(random_state=0, C=0.9),\n",
    "    RandomForestClassifier(n_estimators=400, max_depth=50, random_state=0),\n",
    "    XGBClassifier(),\n",
    "    MultinomialNB(alpha=0.01),\n",
    "    svm.SVC()\n",
    "]"
   ]
  },
  {
   "cell_type": "code",
   "execution_count": 24,
   "metadata": {},
   "outputs": [
    {
     "name": "stderr",
     "output_type": "stream",
     "text": [
      "/Users/ankit/anaconda3/lib/python3.7/site-packages/sklearn/linear_model/logistic.py:433: FutureWarning: Default solver will be changed to 'lbfgs' in 0.22. Specify a solver to silence this warning.\n",
      "  FutureWarning)\n",
      "/Users/ankit/anaconda3/lib/python3.7/site-packages/sklearn/svm/base.py:196: FutureWarning: The default value of gamma will change from 'auto' to 'scale' in version 0.22 to account better for unscaled features. Set gamma explicitly to 'auto' or 'scale' to avoid this warning.\n",
      "  \"avoid this warning.\", FutureWarning)\n"
     ]
    }
   ],
   "source": [
    "CV = 5\n",
    "cv_df = pd.DataFrame(index=range(CV * len(models)))\n",
    "entries = []\n",
    "for model in models:\n",
    "    model_name = model.__class__.__name__\n",
    "    accuracies = cross_val_score(model, features, list(labels), scoring='precision', cv=CV)\n",
    "    for fold_idx, accuracy in enumerate(accuracies):\n",
    "        entries.append((model_name, fold_idx, accuracy))\n",
    "cv_df = pd.DataFrame(entries, columns=['model_name', 'fold_idx', 'accuracy'])"
   ]
  },
  {
   "cell_type": "code",
   "execution_count": 25,
   "metadata": {},
   "outputs": [
    {
     "data": {
      "text/plain": [
       "model_name\n",
       "LogisticRegression        0.594804\n",
       "MultinomialNB             0.582721\n",
       "RandomForestClassifier    0.595038\n",
       "SVC                       0.597778\n",
       "XGBClassifier             0.598425\n",
       "Name: accuracy, dtype: float64"
      ]
     },
     "execution_count": 25,
     "metadata": {},
     "output_type": "execute_result"
    }
   ],
   "source": [
    "cv_df.groupby('model_name').accuracy.mean()"
   ]
  },
  {
   "cell_type": "markdown",
   "metadata": {},
   "source": [
    "## Evaluation of Support Vector Classifier using Accuracy metric"
   ]
  },
  {
   "cell_type": "code",
   "execution_count": 26,
   "metadata": {},
   "outputs": [],
   "source": [
    "trainX, testX, trainy, testy = train_test_split(features, list(labels), test_size=0.2, random_state=2)"
   ]
  },
  {
   "cell_type": "code",
   "execution_count": 30,
   "metadata": {},
   "outputs": [],
   "source": [
    "from sklearn.metrics import classification_report, confusion_matrix\n",
    "from sklearn.metrics import r2_score\n",
    "from sklearn.metrics import r2_score,mean_squared_error,roc_curve,auc\n",
    "import matplotlib.pyplot as matplot_plt\n",
    "\n",
    "# Function for evaluation reports\n",
    "def get_eval(clf, X_train, y_train,y_test,y_pred):\n",
    "    \n",
    "    # Cross Validation to test and anticipate overfitting problem\n",
    "    scores1 = cross_val_score(clf, X_train, y_train, cv=10, scoring='accuracy')\n",
    "    #Results Computed------\n",
    "    \n",
    "    #scores2 = cross_val_score(clf, X_train, y_train, cv=10, scoring='precision')\n",
    "    \n",
    "    #Results Computed------\n",
    "\n",
    "    #scores3 = cross_val_score(clf, X_train, y_train, cv=10, scoring='roc_auc')\n",
    "    \n",
    "    #Results Computed------\n",
    "\n",
    "    # The mean score and standard deviation of the score estimate\n",
    "    print(\"Resultant Cross Validation Accuracy will be: %0.2f (+/- %0.2f)\" % (scores1.mean(), scores1.std()))\n",
    "    \n",
    "    #print(\"Resultant Cross Validation Precision will be: %0.2f (+/- %0.2f)\" % (scores2.mean(), scores2.std()))\n",
    "    \n",
    "    #Results Computed------\n",
    "    #print(\"Resultant Cross Validation roc_auc will be: %0.2f (+/- %0.2f)\" % (scores3.mean(), scores3.std()))\n",
    "    \n",
    "    \n",
    "    # Create and print confusion matrix\n",
    "    print(\"Confusion Matrix will be\\n\")\n",
    "    confusion_res = confusion_matrix(y_test,y_pred)\n",
    "    \n",
    "    \n",
    "    #Results Computed------\n",
    "\n",
    "    print(confusion_res)\n",
    "    print(\"\\n\")\n",
    "    print(\"Classification report\\n\",classification_report(y_test, y_pred))\n",
    "    return\n",
    "  \n",
    " # Function to get roc curve\n",
    "def get_roc (y_test,y_pred):\n",
    "  \n",
    "    #True Vs Predicted Value\n",
    "    print(\"RMSE\")\n",
    "    print(mean_squared_error(y_test,y_pred))\n",
    "    \n",
    "    print(\"\\n R(Square)\")\n",
    "    print(r2_score(y_test,y_pred))\n",
    "    \n",
    "    # Compute ROC curve and ROC area for each class\n",
    "    false_positive_ratio = dict()\n",
    "    true_positive_ratio = dict()\n",
    "    #Results Computed------\n",
    "    roc_auc = dict()\n",
    "    \n",
    "    #Results Computed------\n",
    "    for i in range(2):\n",
    "        false_positive_ratio[i], true_positive_ratio[i], _ = roc_curve(y_test, y_pred)\n",
    "        roc_auc[i] = auc(false_positive_ratio[i], true_positive_ratio[i])\n",
    "    \n",
    "    \n",
    "    \n",
    "    #Plot of a ROC curve\n",
    "    matplot_plt.figure()\n",
    "    lw = 2\n",
    "    matplot_plt.plot(false_positive_ratio[1], true_positive_ratio[1], color='darkorange',\n",
    "             label='ROC curve (area = %0.2f)' % roc_auc[1])\n",
    "    matplot_plt.plot([0, 1], [0, 1], color='navy', lw=lw, linestyle='--')\n",
    "    \n",
    "    \n",
    "    #Results Computed------\n",
    "    \n",
    "    matplot_plt.xlim([0.0, 1.0])\n",
    "    matplot_plt.ylim([0.0, 1.0])\n",
    "    \n",
    "    \n",
    "    matplot_plt.xlabel('False Positive Rate')\n",
    "    matplot_plt.ylabel('True Positive Rate')\n",
    "    matplot_plt.title('Receiver operating characteristic')\n",
    "    matplot_plt.legend(loc=\"lower right\")\n",
    "    matplot_plt.show()\n",
    "    return"
   ]
  },
  {
   "cell_type": "code",
   "execution_count": 31,
   "metadata": {},
   "outputs": [],
   "source": [
    "def svm_evaluate(X_train, y_train,X_test, y_test):\n",
    "    print(\"Support Vector Classifier\")\n",
    "    svc=svm.SVC().fit(X_train, y_train)\n",
    "\n",
    "    # Predict target variables y for test data\n",
    "    y_pred = svc.predict(X_test)\n",
    "    \n",
    "    # Get Cross Validation and Confusion matrix\n",
    "    get_eval(svc, X_train, y_train,y_test,y_pred)\n",
    "    get_roc(y_test,y_pred)\n",
    "    return"
   ]
  },
  {
   "cell_type": "code",
   "execution_count": 32,
   "metadata": {},
   "outputs": [
    {
     "name": "stdout",
     "output_type": "stream",
     "text": [
      "Support Vector Classifier\n"
     ]
    },
    {
     "name": "stderr",
     "output_type": "stream",
     "text": [
      "/Users/ankit/anaconda3/lib/python3.7/site-packages/sklearn/svm/base.py:196: FutureWarning: The default value of gamma will change from 'auto' to 'scale' in version 0.22 to account better for unscaled features. Set gamma explicitly to 'auto' or 'scale' to avoid this warning.\n",
      "  \"avoid this warning.\", FutureWarning)\n",
      "/Users/ankit/anaconda3/lib/python3.7/site-packages/sklearn/svm/base.py:196: FutureWarning: The default value of gamma will change from 'auto' to 'scale' in version 0.22 to account better for unscaled features. Set gamma explicitly to 'auto' or 'scale' to avoid this warning.\n",
      "  \"avoid this warning.\", FutureWarning)\n"
     ]
    },
    {
     "name": "stdout",
     "output_type": "stream",
     "text": [
      "Resultant Cross Validation Accuracy will be: 0.60 (+/- 0.01)\n",
      "Confusion Matrix will be\n",
      "\n",
      "[[ 0 30]\n",
      " [ 0 42]]\n",
      "\n",
      "\n",
      "Classification report\n",
      "               precision    recall  f1-score   support\n",
      "\n",
      "           0       0.00      0.00      0.00        30\n",
      "           1       0.58      1.00      0.74        42\n",
      "\n",
      "   micro avg       0.58      0.58      0.58        72\n",
      "   macro avg       0.29      0.50      0.37        72\n",
      "weighted avg       0.34      0.58      0.43        72\n",
      "\n",
      "RMSE\n",
      "0.4166666666666667\n",
      "\n",
      " R(Square)\n",
      "-0.714285714285714\n"
     ]
    },
    {
     "name": "stderr",
     "output_type": "stream",
     "text": [
      "/Users/ankit/anaconda3/lib/python3.7/site-packages/sklearn/metrics/classification.py:1143: UndefinedMetricWarning: Precision and F-score are ill-defined and being set to 0.0 in labels with no predicted samples.\n",
      "  'precision', 'predicted', average, warn_for)\n"
     ]
    },
    {
     "data": {
      "image/png": "[encoded data removed]",
      "text/plain": [
       "<Figure size 432x288 with 1 Axes>"
      ]
     },
     "metadata": {
      "needs_background": "light"
     },
     "output_type": "display_data"
    }
   ],
   "source": [
    "svm_evaluate(trainX,trainy,testX,testy)"
   ]
  },
  {
   "cell_type": "code",
   "execution_count": 33,
   "metadata": {},
   "outputs": [
    {
     "name": "stderr",
     "output_type": "stream",
     "text": [
      "/Users/ankit/anaconda3/lib/python3.7/site-packages/sklearn/svm/base.py:196: FutureWarning: The default value of gamma will change from 'auto' to 'scale' in version 0.22 to account better for unscaled features. Set gamma explicitly to 'auto' or 'scale' to avoid this warning.\n",
      "  \"avoid this warning.\", FutureWarning)\n"
     ]
    }
   ],
   "source": [
    "model=svm.SVC().fit(features,list(labels))"
   ]
  },
  {
   "cell_type": "markdown",
   "metadata": {},
   "source": [
    "## Update Model"
   ]
  },
  {
   "cell_type": "code",
   "execution_count": 34,
   "metadata": {},
   "outputs": [],
   "source": [
    "Updatecounter=0\n",
    "def update_model():\n",
    "    objectdata['title']=objectdata['title'].apply(clean)\n",
    "    objectdata['summary']=objectdata['summary'].apply(clean)\n",
    "    objectdata['title']=objectdata['title'].apply(removewords)\n",
    "    objectdata['summary']=objectdata['summary'].apply(removewords)\n",
    "    objectdata['title_sum'] = objectdata.title + objectdata.summary\n",
    "    objectdata.drop(['id','title','summary','status','filingDate','publicationNumber','publicationDate','objectType'],axis=1, inplace=True)\n",
    "    features=vectorizer.transform(objectdata['title_sum'])\n",
    "    labels=objectdata['result']\n",
    "    model=svm.SVC().fit(features,list(labels))"
   ]
  },
  {
   "cell_type": "markdown",
   "metadata": {},
   "source": [
    "## APIS"
   ]
  },
  {
   "cell_type": "code",
   "execution_count": null,
   "metadata": {},
   "outputs": [
    {
     "name": "stdout",
     "output_type": "stream",
     "text": [
      " * Serving Flask app \"__main__\" (lazy loading)\n",
      " * Environment: production\n",
      "   WARNING: Do not use the development server in a production environment.\n",
      "   Use a production WSGI server instead.\n",
      " * Debug mode: off\n"
     ]
    },
    {
     "name": "stderr",
     "output_type": "stream",
     "text": [
      " * Running on http://127.0.0.1:5000/ (Press CTRL+C to quit)\n"
     ]
    }
   ],
   "source": [
    "from flask import Flask,request\n",
    "  \n",
    "app = Flask(__name__) \n",
    "  \n",
    "@app.route('/patentpredict', methods=[\"POST\"]) \n",
    "def predict_patent(): \n",
    "    req = request.get_json()\n",
    "    doc=pd.DataFrame(req['object'],index=[0])\n",
    "    doc['title']=doc['title'].apply(clean)\n",
    "    doc['summary']=doc['summary'].apply(clean)\n",
    "    doc['title']=doc['title'].apply(removewords)\n",
    "    doc['summary']=doc['summary'].apply(removewords)\n",
    "    doc['title_sum'] = doc.title + doc.summary\n",
    "    doc.drop(['id','title','summary','status','filingDate','publicationNumber','publicationDate','objectType'],axis=1, inplace=True)\n",
    "    doc_titsum=vectorizer.transform(doc['title_sum'])\n",
    "    res=model.predict(doc_titsum)\n",
    "    if res[0]==0:\n",
    "        return \"Approved\"\n",
    "    elif res[0]==1:\n",
    "        return \"Not approved\"\n",
    "\n",
    "@app.route('/patentrecord',methods=[\"POST\"])\n",
    "def record_patent():\n",
    "    req = request.get_json()\n",
    "    doc=pd.DataFrame(req['object'],index=[0])\n",
    "    if doc['status'] in approved:\n",
    "        doc['result']=[0]\n",
    "    elif doc['status'] in disapproval:\n",
    "        doc['result']=[1]\n",
    "    else:\n",
    "        doc['result']=2\n",
    "    objectdata.append(doc)\n",
    "    \n",
    "    doc['title']=doc['title'].apply(clean)\n",
    "    doc['summary']=doc['summary'].apply(clean)\n",
    "    doc['title']=doc['title'].apply(removewords)\n",
    "    doc['summary']=doc['summary'].apply(removewords)\n",
    "    doc['title_sum'] = doc.title + doc.summary\n",
    "    doc.drop(['id','title','summary','status','filingDate','publicationNumber','publicationDate','objectType'],axis=1, inplace=True)\n",
    "    doc_titsum=vectorizer.transform(doc['title_sum'])\n",
    "    res=model.predict(doc_titsum)\n",
    "    if res[0]!=doc['result'][0]:\n",
    "        Updatecounter+=1\n",
    "    if Updatecounter>5:\n",
    "        update_model()\n",
    "    return \"Submitted\"\n",
    "        \n",
    "    \n",
    "if __name__ == '__main__': \n",
    "    app.run()"
   ]
  },
  {
   "cell_type": "code",
   "execution_count": null,
   "metadata": {},
   "outputs": [],
   "source": []
  }
 ],
 "metadata": {
  "kernelspec": {
   "display_name": "Python 3",
   "language": "python",
   "name": "python3"
  },
  "language_info": {
   "codemirror_mode": {
    "name": "ipython",
    "version": 3
   },
   "file_extension": ".py",
   "mimetype": "text/x-python",
   "name": "python",
   "nbconvert_exporter": "python",
   "pygments_lexer": "ipython3",
   "version": "3.7.1"
  }
 },
 "nbformat": 4,
 "nbformat_minor": 2
}
